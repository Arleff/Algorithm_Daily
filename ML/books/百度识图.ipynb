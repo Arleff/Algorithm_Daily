{
 "cells": [
  {
   "cell_type": "code",
   "execution_count": 12,
   "metadata": {},
   "outputs": [],
   "source": [
    "from aip import AipImageClassify\n",
    "\n",
    "\"\"\" 你的 APPID AK SK \"\"\"\n",
    "APP_ID = '21552774'\n",
    "API_KEY = 'QZ0Mv4pwhTLRxkcwvGWAD4EB'\n",
    "SECRET_KEY = 'evV9KBLOwVpCclrP233NPqfHKndszvKP'\n",
    "\n",
    "client = AipImageClassify(APP_ID, API_KEY, SECRET_KEY)"
   ]
  },
  {
   "cell_type": "code",
   "execution_count": 13,
   "metadata": {},
   "outputs": [],
   "source": [
    "\"\"\" 读取图片 \"\"\"\n",
    "def get_file_content(filePath):\n",
    "    with open(filePath, 'rb') as fp:\n",
    "        return fp.read()\n"
   ]
  },
  {
   "cell_type": "code",
   "execution_count": 24,
   "metadata": {},
   "outputs": [],
   "source": [
    "\n",
    "image = get_file_content('/Users/zhaojunfu/Desktop/WechatIMG71886.png')"
   ]
  },
  {
   "cell_type": "code",
   "execution_count": 25,
   "metadata": {},
   "outputs": [],
   "source": [
    "import cv2\n"
   ]
  },
  {
   "cell_type": "code",
   "execution_count": 26,
   "metadata": {},
   "outputs": [
    {
     "data": {
      "text/plain": [
       "{'log_id': 7367520717269648759,\n",
       " 'result_num': 5,\n",
       " 'result': [{'score': 0.920904,\n",
       "   'root': '动物-节肢动物',\n",
       "   'baike_info': {'baike_url': 'http://baike.baidu.com/item/%E8%9D%88%E8%9D%88/477',\n",
       "    'image_url': 'https://bkimg.cdn.bcebos.com/pic/9f2f070828381f3064de3b3aa3014c086f06f05a',\n",
       "    'description': '蝈蝈是昆虫纲，直翅目，螽斯科一些大型鸣虫的通称，个子较大，外形和蝗虫相像，身体草绿色，触角细长。雄虫的前翅互相摩擦，能发出“括括括”的声音，清脆响亮。喜欢吃瓜果、豆类等，人们用小竹笼饲养观赏。作为欣赏娱乐昆虫在中国已有悠久历史，如在古易州(今河北省易县)就有几百年编笼捕蝈蝈的历史。蝈蝈的别名很多，如哥哥、蛞蛞。蝈蝈在中国分布很广，与蟋蟀、油葫芦被称为三大鸣虫。蝈蝈的食物主要是豆类、菜叶、蚂蚱等。公蝈蝈叫声洪亮，深受广大鸣虫爱好者的喜爱。'},\n",
       "   'keyword': '蝈蝈'},\n",
       "  {'score': 0.717649, 'root': '动物-节肢动物', 'baike_info': {}, 'keyword': '蝗虫'},\n",
       "  {'score': 0.528916, 'root': '动物-昆虫类', 'baike_info': {}, 'keyword': '蚱蜢'},\n",
       "  {'score': 0.312128,\n",
       "   'root': '动物-昆虫类',\n",
       "   'baike_info': {'baike_url': 'http://baike.baidu.com/item/%E8%9D%97%E8%99%AB/759031',\n",
       "    'image_url': 'https://bkimg.cdn.bcebos.com/pic/eac4b74543a982263304e5678282b9014b90ebae',\n",
       "    'description': '蝗虫，俗称“蚂蚱”，属直翅目，包括蚱总科(Tetrigoidea)、蜢总科(Eumastacoidea)、蝗总科(Locustoidea)的种类，全世界有超过10000种，我国有1000余种，分布于全世界的热带、温带的草地和沙漠地区。蝗虫主要包括飞蝗,土蝗。在我国飞蝗有东亚飞蝗(Locusta migratoria manilensis (Meyen))、亚洲飞蝗(Locusta migratoria migratoria (Linnaeus))和西藏飞蝗(Locusta migratoria tibitensis Chen)3种，其中东亚飞蝗在我国分布范围最广，危害最严重，是造成我国蝗灾的最主要飞蝗种类，主要危害禾本科植物，是农业害虫。'},\n",
       "   'keyword': '蚂蚱'},\n",
       "  {'score': 0.085986,\n",
       "   'root': '动物-其他',\n",
       "   'baike_info': {'baike_url': 'http://baike.baidu.com/item/%E8%99%AB%E5%AD%90/545525',\n",
       "    'image_url': 'https://bkimg.cdn.bcebos.com/pic/8644ebf81a4c510f27b39c0d6459252dd42aa5b6',\n",
       "    'description': '虫子，“bug”属于虫类。在计算机用语里表示“错误、故障”，指由于程序中存在的语法错误或逻辑错误而导致程序运行发生的错误。'},\n",
       "   'keyword': '虫子'}]}"
      ]
     },
     "execution_count": 26,
     "metadata": {},
     "output_type": "execute_result"
    }
   ],
   "source": [
    "\n",
    "\"\"\" 调用通用物体识别 \"\"\"\n",
    "client.advancedGeneral(image);\n",
    "\n",
    "\"\"\" 如果有可选参数 \"\"\"\n",
    "options = {}\n",
    "options[\"baike_num\"] = 5\n",
    "\n",
    "\"\"\" 带参数调用通用物体识别 \"\"\"\n",
    "client.advancedGeneral(image, options)"
   ]
  },
  {
   "cell_type": "code",
   "execution_count": null,
   "metadata": {},
   "outputs": [],
   "source": []
  }
 ],
 "metadata": {
  "kernelspec": {
   "display_name": "Python 3",
   "language": "python",
   "name": "python3"
  },
  "language_info": {
   "codemirror_mode": {
    "name": "ipython",
    "version": 3
   },
   "file_extension": ".py",
   "mimetype": "text/x-python",
   "name": "python",
   "nbconvert_exporter": "python",
   "pygments_lexer": "ipython3",
   "version": "3.7.0"
  }
 },
 "nbformat": 4,
 "nbformat_minor": 2
}
